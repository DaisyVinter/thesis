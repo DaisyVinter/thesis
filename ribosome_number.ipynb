{
 "cells": [
  {
   "cell_type": "code",
   "execution_count": 1,
   "id": "0e2a7429-35d8-4907-8f79-6bdef375f9c4",
   "metadata": {},
   "outputs": [],
   "source": [
    "folder = 'Z:/Daisy/2022/sv40_ribonums/359f'\n",
    "\n",
    "mrna_file = 'Z:/Daisy/2022/sv40_ribonums/359f/mrna/suntag.loc3'\n",
    "bright_file = 'Z:/Daisy/2022/sv40_ribonums/359f/brights/neongreen.loc3'\n",
    "single_file = 'Z:/Daisy/2022/sv40_ribonums/359f/singles/neongreen.loc3'\n",
    "\n",
    "import pandas as pd\n",
    "import scipy.spatial.distance\n",
    "import scipy.optimize\n",
    "import numpy as np\n",
    "import matplotlib.pyplot as plt\n"
   ]
  },
  {
   "cell_type": "code",
   "execution_count": 2,
   "id": "12936ee9-1ceb-49e6-a20f-f5c6905f3810",
   "metadata": {},
   "outputs": [],
   "source": [
    "xy_pixel = 0.0142\n",
    "z_pixel = 0.2"
   ]
  },
  {
   "cell_type": "code",
   "execution_count": 3,
   "id": "8ee54a08-c724-423c-b021-e1874522b593",
   "metadata": {},
   "outputs": [],
   "source": [
    "mrna = pd.read_csv(mrna_file, sep = '  ', engine = 'python', names = ['x', 'y', 'z', 'intensity', ''])\n",
    "brights = pd.read_csv(bright_file, sep = '  ', engine = 'python', names = ['x', 'y', 'z', 'intensity', ''])\n",
    "singles = pd.read_csv(single_file, sep = '  ', engine = 'python', names = ['x', 'y', 'z', 'intensity', ''])\n",
    "mrna = mrna.loc[mrna['intensity'] != -8]\n",
    "brights = brights.loc[brights['intensity'] != -8]\n",
    "singles = singles.loc[singles['intensity'] != -8]"
   ]
  },
  {
   "cell_type": "code",
   "execution_count": 4,
   "id": "c9995ad2-52fd-42f0-8376-fe53071e3a05",
   "metadata": {},
   "outputs": [],
   "source": [
    "mrna['x'] = mrna['x']*xy_pixel\n",
    "mrna['y'] = mrna['y']*xy_pixel\n",
    "mrna['z'] = mrna['z']*z_pixel\n",
    "brights['x'] = brights['x']*xy_pixel\n",
    "brights['y'] = brights['y']*xy_pixel\n",
    "brights['z'] = brights['z']*z_pixel\n",
    "singles['x'] = singles['x']*xy_pixel\n",
    "singles['y'] = singles['y']*xy_pixel\n",
    "singles['z'] = singles['z']*z_pixel"
   ]
  },
  {
   "cell_type": "code",
   "execution_count": 5,
   "id": "cdbb2ba1-cf38-44d3-9617-a93452233427",
   "metadata": {},
   "outputs": [],
   "source": [
    "just_singles = singles[~singles.isin(brights)].dropna()"
   ]
  },
  {
   "cell_type": "code",
   "execution_count": 6,
   "id": "b5d30b6b-dadd-457e-98c4-c7aa8c509657",
   "metadata": {},
   "outputs": [
    {
     "data": {
      "image/png": "[encoded data removed]",
      "text/plain": [
       "<Figure size 432x288 with 1 Axes>"
      ]
     },
     "metadata": {
      "needs_background": "light"
     },
     "output_type": "display_data"
    }
   ],
   "source": [
    "plt.hist(mrna['intensity'], bins = range(0,5000, 50))\n",
    "plt.yscale('log')\n",
    "plt.show()"
   ]
  },
  {
   "cell_type": "code",
   "execution_count": 7,
   "id": "bf6d88e1-d825-49cd-8b18-bc394658f92a",
   "metadata": {},
   "outputs": [],
   "source": [
    "mrna = mrna[(mrna['intensity'] < 10000) & (mrna['intensity'] > 200)]"
   ]
  },
  {
   "cell_type": "code",
   "execution_count": 8,
   "id": "c6bf44ce-c19e-4d43-91e8-beb3f59e9ce3",
   "metadata": {},
   "outputs": [
    {
     "data": {
      "text/plain": [
       "(array([  0.,   0.,   0.,   0.,  14.,  12.,   8.,   8.,  10.,  10.,  18.,\n",
       "         30.,  35.,  66.,  60.,  77.,  89., 133., 134., 165., 161., 182.,\n",
       "        179., 162., 169., 145., 150., 128.,  92.,  94., 100.,  79.,  73.,\n",
       "         79.,  51.,  43.,  45.,  39.,  32.,  32.,  36.,  29.,  27.,  26.,\n",
       "         27.,  16.,  15.,  19.,  10.,  12.,  17.,   8.,   8.,  10.,   5.,\n",
       "          4.,   6.,   9.,   4.]),\n",
       " array([   0,   50,  100,  150,  200,  250,  300,  350,  400,  450,  500,\n",
       "         550,  600,  650,  700,  750,  800,  850,  900,  950, 1000, 1050,\n",
       "        1100, 1150, 1200, 1250, 1300, 1350, 1400, 1450, 1500, 1550, 1600,\n",
       "        1650, 1700, 1750, 1800, 1850, 1900, 1950, 2000, 2050, 2100, 2150,\n",
       "        2200, 2250, 2300, 2350, 2400, 2450, 2500, 2550, 2600, 2650, 2700,\n",
       "        2750, 2800, 2850, 2900, 2950]),\n",
       " <BarContainer object of 59 artists>)"
      ]
     },
     "execution_count": 8,
     "metadata": {},
     "output_type": "execute_result"
    },
    {
     "data": {
      "image/png": "[encoded data removed]",
      "text/plain": [
       "<Figure size 432x288 with 1 Axes>"
      ]
     },
     "metadata": {
      "needs_background": "light"
     },
     "output_type": "display_data"
    }
   ],
   "source": [
    "plt.hist(mrna['intensity'], bins = range(0,3000, 50))"
   ]
  },
  {
   "cell_type": "code",
   "execution_count": 9,
   "id": "8c1ef98c-a3ef-4e9b-a507-92f17f5c624c",
   "metadata": {},
   "outputs": [
    {
     "data": {
      "image/png": "[encoded data removed]",
      "text/plain": [
       "<Figure size 432x288 with 1 Axes>"
      ]
     },
     "metadata": {
      "needs_background": "light"
     },
     "output_type": "display_data"
    }
   ],
   "source": [
    "plt.hist(brights['intensity'])\n",
    "#plt.yscale('log')\n",
    "plt.show()"
   ]
  },
  {
   "cell_type": "code",
   "execution_count": 10,
   "id": "5282044f-f44a-467c-937e-e3a469cae657",
   "metadata": {},
   "outputs": [
    {
     "data": {
      "image/png": "[encoded data removed]",
      "text/plain": [
       "<Figure size 432x288 with 1 Axes>"
      ]
     },
     "metadata": {
      "needs_background": "light"
     },
     "output_type": "display_data"
    }
   ],
   "source": [
    "plt.hist(singles['intensity'])\n",
    "#plt.yscale('log')\n",
    "plt.show()"
   ]
  },
  {
   "cell_type": "code",
   "execution_count": 11,
   "id": "3934b1b4-b00a-4de0-9c78-2d416acc2d27",
   "metadata": {},
   "outputs": [
    {
     "data": {
      "image/png": "[encoded data removed]",
      "text/plain": [
       "<Figure size 432x288 with 1 Axes>"
      ]
     },
     "metadata": {
      "needs_background": "light"
     },
     "output_type": "display_data"
    }
   ],
   "source": [
    "plt.hist(just_singles['intensity'])\n",
    "#plt.yscale('log')\n",
    "plt.show()"
   ]
  },
  {
   "cell_type": "code",
   "execution_count": 12,
   "id": "ccbe8648-2717-4544-affc-6bc80f0a82f8",
   "metadata": {},
   "outputs": [
    {
     "name": "stdout",
     "output_type": "stream",
     "text": [
      "mrna: (3238, 5)\n",
      "brights: (2076, 5)\n",
      "singles: (8206, 5)\n",
      "just_singles: (6130, 5)\n"
     ]
    }
   ],
   "source": [
    "print('mrna: ' + str(mrna.shape))\n",
    "print('brights: ' + str(brights.shape))\n",
    "print('singles: ' + str(singles.shape))\n",
    "print('just_singles: ' + str(just_singles.shape))"
   ]
  },
  {
   "cell_type": "code",
   "execution_count": 13,
   "id": "2e25e1d9-44ac-43b5-885b-f5739c5eda1f",
   "metadata": {},
   "outputs": [],
   "source": [
    "mrna_pos = np.array(mrna[['x', 'y', 'z']])\n",
    "singles_pos = np.array(singles[['x', 'y', 'z']])\n",
    "brights_pos = np.array(brights[['x', 'y', 'z']])"
   ]
  },
  {
   "cell_type": "code",
   "execution_count": 14,
   "id": "f6ae69c2-ba2b-435e-a5e9-c59410258ca0",
   "metadata": {},
   "outputs": [
    {
     "data": {
      "text/plain": [
       "array([[16.73074814,  4.46534932,  4.6229856 ],\n",
       "       [ 6.76903279, 16.06351854,  8.1651012 ],\n",
       "       [26.19100682,  3.46141117,  8.6696372 ],\n",
       "       ...,\n",
       "       [23.61784896, 29.04576346, 18.6568358 ],\n",
       "       [25.15146316,  0.08832796,  0.65581908],\n",
       "       [ 0.04364026, 11.59069348,  1.66987786]])"
      ]
     },
     "execution_count": 14,
     "metadata": {},
     "output_type": "execute_result"
    }
   ],
   "source": [
    "singles_pos"
   ]
  },
  {
   "cell_type": "code",
   "execution_count": 15,
   "id": "1933a122-eba2-4a32-9839-0fbd6986e981",
   "metadata": {},
   "outputs": [],
   "source": [
    "distances = scipy.spatial.distance.cdist(singles_pos, mrna_pos, metric = 'euclidean')\n",
    "opt_index = scipy.optimize.linear_sum_assignment(distances)"
   ]
  },
  {
   "cell_type": "code",
   "execution_count": 16,
   "id": "ec4ab4ec-480a-490e-9241-85a9a37cdd6d",
   "metadata": {},
   "outputs": [
    {
     "data": {
      "image/png": "[encoded data removed]",
      "text/plain": [
       "<Figure size 720x432 with 1 Axes>"
      ]
     },
     "metadata": {
      "needs_background": "light"
     },
     "output_type": "display_data"
    }
   ],
   "source": [
    "min_dist = []\n",
    "for i in zip(opt_index[0], opt_index[1]):\n",
    "    min_dist.append(distances[i])\n",
    "plt.figure(figsize = (10, 6))\n",
    "plt.hist(min_dist, np.linspace(0, 2, 50))\n",
    "plt.bar(0.4, 100, color = 'red', width = 0.02)\n",
    "plt.show()"
   ]
  },
  {
   "cell_type": "code",
   "execution_count": 17,
   "id": "72a72132-1a2c-4cf3-bdce-7f3e73b83705",
   "metadata": {},
   "outputs": [],
   "source": [
    "for i in zip(opt_index[0], opt_index[1]):\n",
    "    singles.loc[i[0], 'closest_mrna'] = i[1]\n",
    "    mrna.loc[i[1], 'closest_ng'] = i[0]\n",
    "    singles.loc[i[0], 'distance'] = distances[i]\n",
    "    mrna.loc[i[1], 'distance'] = distances[i]\n",
    "\n",
    "    "
   ]
  },
  {
   "cell_type": "code",
   "execution_count": 18,
   "id": "576da53c-1cca-4bd7-b1ad-9c1db9a10486",
   "metadata": {},
   "outputs": [],
   "source": [
    "coloc = singles.loc[singles['distance'] <= 0.4]\n",
    "non_coloc = singles[~singles.isin(coloc)].dropna(subset = ['x'])"
   ]
  },
  {
   "cell_type": "code",
   "execution_count": 19,
   "id": "eb884694-1bc8-48e5-93bb-105cee0781d2",
   "metadata": {},
   "outputs": [
    {
     "data": {
      "image/png": "[encoded data removed]",
      "text/plain": [
       "<Figure size 432x288 with 1 Axes>"
      ]
     },
     "metadata": {
      "needs_background": "light"
     },
     "output_type": "display_data"
    }
   ],
   "source": [
    "plt.hist(coloc['intensity'])\n",
    "plt.yscale('log')\n",
    "plt.show()"
   ]
  },
  {
   "cell_type": "code",
   "execution_count": 20,
   "id": "7f5192d6-2789-4382-96aa-b236b15fa7b6",
   "metadata": {},
   "outputs": [
    {
     "data": {
      "image/png": "[encoded data removed]",
      "text/plain": [
       "<Figure size 432x288 with 1 Axes>"
      ]
     },
     "metadata": {
      "needs_background": "light"
     },
     "output_type": "display_data"
    }
   ],
   "source": [
    "plt.hist(non_coloc['intensity'])\n",
    "plt.yscale('log')\n",
    "plt.show()"
   ]
  },
  {
   "cell_type": "code",
   "execution_count": 21,
   "id": "d6766716-d603-49c0-9358-727d8c29c682",
   "metadata": {},
   "outputs": [],
   "source": [
    "distances_bright = scipy.spatial.distance.cdist(brights_pos, mrna_pos, metric = 'euclidean')\n",
    "opt_index_bright = scipy.optimize.linear_sum_assignment(distances_bright)"
   ]
  },
  {
   "cell_type": "code",
   "execution_count": 22,
   "id": "3c6f29c7-facb-4edd-ba31-35efb22e1f82",
   "metadata": {},
   "outputs": [
    {
     "data": {
      "image/png": "[encoded data removed]",
      "text/plain": [
       "<Figure size 720x432 with 1 Axes>"
      ]
     },
     "metadata": {
      "needs_background": "light"
     },
     "output_type": "display_data"
    }
   ],
   "source": [
    "min_dist = []\n",
    "for i in zip(opt_index_bright[0], opt_index_bright[1]):\n",
    "    min_dist.append(distances_bright[i])\n",
    "plt.figure(figsize = (10, 6))\n",
    "plt.hist(min_dist, np.linspace(0, 3, 50))\n",
    "plt.bar(0.4, 100, color = 'red', width = 0.02)\n",
    "plt.show()"
   ]
  },
  {
   "cell_type": "code",
   "execution_count": 23,
   "id": "93f08b24-6fb1-4948-aabb-a6ee6a3e6765",
   "metadata": {},
   "outputs": [],
   "source": [
    "for i in zip(opt_index_bright[0], opt_index_bright[1]):\n",
    "    brights.loc[i[0], 'closest_mrna'] = i[1]\n",
    "    mrna.loc[i[1], 'closest_bright'] = i[0]\n",
    "    brights.loc[i[0], 'distance'] = distances_bright[i]\n",
    "    mrna.loc[i[1], 'distance_to_bright'] = distances_bright[i]"
   ]
  },
  {
   "cell_type": "code",
   "execution_count": 24,
   "id": "35ef61f9-187a-421e-90ad-548159901c2a",
   "metadata": {},
   "outputs": [],
   "source": [
    "bright_coloc = brights.loc[brights['distance'] <= 0.4]\n",
    "bright_no_coloc = brights[~brights.isin(bright_coloc)].dropna(subset = ['x'])"
   ]
  },
  {
   "cell_type": "code",
   "execution_count": 25,
   "id": "77390748-5f62-4644-b966-91ef5db5fcd3",
   "metadata": {},
   "outputs": [
    {
     "data": {
      "image/png": "[encoded data removed]",
      "text/plain": [
       "<Figure size 432x288 with 1 Axes>"
      ]
     },
     "metadata": {
      "needs_background": "light"
     },
     "output_type": "display_data"
    }
   ],
   "source": [
    "plt.hist(bright_coloc['intensity'])\n",
    "#plt.yscale('log')\n",
    "plt.show()"
   ]
  },
  {
   "cell_type": "code",
   "execution_count": 26,
   "id": "d8c11740-03e9-45c4-b2c0-bc3f03b5d607",
   "metadata": {},
   "outputs": [
    {
     "data": {
      "image/png": "[encoded data removed]",
      "text/plain": [
       "<Figure size 432x288 with 1 Axes>"
      ]
     },
     "metadata": {
      "needs_background": "light"
     },
     "output_type": "display_data"
    }
   ],
   "source": [
    "plt.hist(bright_no_coloc['intensity'])\n",
    "#plt.yscale('log')\n",
    "plt.show()"
   ]
  },
  {
   "cell_type": "code",
   "execution_count": 27,
   "id": "07d82d0c-e374-4949-bd47-7fe98f17744a",
   "metadata": {},
   "outputs": [
    {
     "data": {
      "text/html": [
       "<div>\n",
       "<style scoped>\n",
       "    .dataframe tbody tr th:only-of-type {\n",
       "        vertical-align: middle;\n",
       "    }\n",
       "\n",
       "    .dataframe tbody tr th {\n",
       "        vertical-align: top;\n",
       "    }\n",
       "\n",
       "    .dataframe thead th {\n",
       "        text-align: right;\n",
       "    }\n",
       "</style>\n",
       "<table border=\"1\" class=\"dataframe\">\n",
       "  <thead>\n",
       "    <tr style=\"text-align: right;\">\n",
       "      <th></th>\n",
       "      <th>x</th>\n",
       "      <th>y</th>\n",
       "      <th>z</th>\n",
       "      <th>intensity</th>\n",
       "      <th></th>\n",
       "      <th>closest_mrna</th>\n",
       "      <th>distance</th>\n",
       "    </tr>\n",
       "  </thead>\n",
       "  <tbody>\n",
       "    <tr>\n",
       "      <th>1</th>\n",
       "      <td>26.193091</td>\n",
       "      <td>3.461991</td>\n",
       "      <td>8.562922</td>\n",
       "      <td>28270.8800</td>\n",
       "      <td>0.0</td>\n",
       "      <td>88.0</td>\n",
       "      <td>0.245849</td>\n",
       "    </tr>\n",
       "    <tr>\n",
       "      <th>3</th>\n",
       "      <td>15.144712</td>\n",
       "      <td>12.670957</td>\n",
       "      <td>6.341670</td>\n",
       "      <td>27843.5850</td>\n",
       "      <td>0.0</td>\n",
       "      <td>10.0</td>\n",
       "      <td>0.119276</td>\n",
       "    </tr>\n",
       "    <tr>\n",
       "      <th>5</th>\n",
       "      <td>19.087438</td>\n",
       "      <td>9.161069</td>\n",
       "      <td>4.954446</td>\n",
       "      <td>26249.4460</td>\n",
       "      <td>0.0</td>\n",
       "      <td>410.0</td>\n",
       "      <td>0.104749</td>\n",
       "    </tr>\n",
       "    <tr>\n",
       "      <th>8</th>\n",
       "      <td>12.602050</td>\n",
       "      <td>5.559165</td>\n",
       "      <td>3.958366</td>\n",
       "      <td>24080.4430</td>\n",
       "      <td>0.0</td>\n",
       "      <td>1522.0</td>\n",
       "      <td>0.399681</td>\n",
       "    </tr>\n",
       "    <tr>\n",
       "      <th>9</th>\n",
       "      <td>7.900898</td>\n",
       "      <td>4.892098</td>\n",
       "      <td>7.661719</td>\n",
       "      <td>24033.6520</td>\n",
       "      <td>0.0</td>\n",
       "      <td>316.0</td>\n",
       "      <td>0.346837</td>\n",
       "    </tr>\n",
       "    <tr>\n",
       "      <th>...</th>\n",
       "      <td>...</td>\n",
       "      <td>...</td>\n",
       "      <td>...</td>\n",
       "      <td>...</td>\n",
       "      <td>...</td>\n",
       "      <td>...</td>\n",
       "      <td>...</td>\n",
       "    </tr>\n",
       "    <tr>\n",
       "      <th>2019</th>\n",
       "      <td>0.798278</td>\n",
       "      <td>10.449007</td>\n",
       "      <td>18.743166</td>\n",
       "      <td>2070.8303</td>\n",
       "      <td>0.0</td>\n",
       "      <td>3067.0</td>\n",
       "      <td>0.378314</td>\n",
       "    </tr>\n",
       "    <tr>\n",
       "      <th>2020</th>\n",
       "      <td>16.450619</td>\n",
       "      <td>28.975295</td>\n",
       "      <td>17.950882</td>\n",
       "      <td>2070.4457</td>\n",
       "      <td>0.0</td>\n",
       "      <td>3101.0</td>\n",
       "      <td>0.361540</td>\n",
       "    </tr>\n",
       "    <tr>\n",
       "      <th>2026</th>\n",
       "      <td>9.463710</td>\n",
       "      <td>0.097766</td>\n",
       "      <td>12.864529</td>\n",
       "      <td>1980.9745</td>\n",
       "      <td>0.0</td>\n",
       "      <td>2274.0</td>\n",
       "      <td>0.271339</td>\n",
       "    </tr>\n",
       "    <tr>\n",
       "      <th>2029</th>\n",
       "      <td>0.078649</td>\n",
       "      <td>8.602028</td>\n",
       "      <td>10.139797</td>\n",
       "      <td>1956.7571</td>\n",
       "      <td>0.0</td>\n",
       "      <td>2835.0</td>\n",
       "      <td>0.293806</td>\n",
       "    </tr>\n",
       "    <tr>\n",
       "      <th>2032</th>\n",
       "      <td>1.691625</td>\n",
       "      <td>12.078813</td>\n",
       "      <td>18.698178</td>\n",
       "      <td>1861.2997</td>\n",
       "      <td>0.0</td>\n",
       "      <td>3045.0</td>\n",
       "      <td>0.140348</td>\n",
       "    </tr>\n",
       "  </tbody>\n",
       "</table>\n",
       "<p>576 rows × 7 columns</p>\n",
       "</div>"
      ],
      "text/plain": [
       "              x          y          z   intensity       closest_mrna  distance\n",
       "1     26.193091   3.461991   8.562922  28270.8800  0.0          88.0  0.245849\n",
       "3     15.144712  12.670957   6.341670  27843.5850  0.0          10.0  0.119276\n",
       "5     19.087438   9.161069   4.954446  26249.4460  0.0         410.0  0.104749\n",
       "8     12.602050   5.559165   3.958366  24080.4430  0.0        1522.0  0.399681\n",
       "9      7.900898   4.892098   7.661719  24033.6520  0.0         316.0  0.346837\n",
       "...         ...        ...        ...         ...  ...           ...       ...\n",
       "2019   0.798278  10.449007  18.743166   2070.8303  0.0        3067.0  0.378314\n",
       "2020  16.450619  28.975295  17.950882   2070.4457  0.0        3101.0  0.361540\n",
       "2026   9.463710   0.097766  12.864529   1980.9745  0.0        2274.0  0.271339\n",
       "2029   0.078649   8.602028  10.139797   1956.7571  0.0        2835.0  0.293806\n",
       "2032   1.691625  12.078813  18.698178   1861.2997  0.0        3045.0  0.140348\n",
       "\n",
       "[576 rows x 7 columns]"
      ]
     },
     "execution_count": 27,
     "metadata": {},
     "output_type": "execute_result"
    }
   ],
   "source": [
    "bright_coloc"
   ]
  },
  {
   "cell_type": "code",
   "execution_count": 28,
   "id": "8c5d567b-45dc-4b78-9af3-05590948b5e6",
   "metadata": {},
   "outputs": [
    {
     "data": {
      "text/plain": [
       "1134.4638"
      ]
     },
     "execution_count": 28,
     "metadata": {},
     "output_type": "execute_result"
    }
   ],
   "source": [
    "non_coloc['intensity'].median()"
   ]
  },
  {
   "cell_type": "code",
   "execution_count": 29,
   "id": "75ded18e-1629-4820-8a73-e522a775036a",
   "metadata": {},
   "outputs": [
    {
     "data": {
      "text/plain": [
       "953.68538"
      ]
     },
     "execution_count": 29,
     "metadata": {},
     "output_type": "execute_result"
    }
   ],
   "source": [
    "just_singles['intensity'].median()"
   ]
  },
  {
   "cell_type": "code",
   "execution_count": 30,
   "id": "57637bd7-6044-4023-b38c-2648cb3d05ec",
   "metadata": {},
   "outputs": [],
   "source": [
    "single_int = just_singles['intensity'].median()"
   ]
  },
  {
   "cell_type": "code",
   "execution_count": 31,
   "id": "00118aa8-67ac-425b-8b46-ef1da4fc287b",
   "metadata": {},
   "outputs": [],
   "source": [
    "correction_factor = (575*0.5 + 759)/(575 + 759)"
   ]
  },
  {
   "cell_type": "code",
   "execution_count": 32,
   "id": "c9ad2499-fb8e-4ca2-8234-58eb58ed95cb",
   "metadata": {},
   "outputs": [
    {
     "data": {
      "text/plain": [
       "0.7844827586206896"
      ]
     },
     "execution_count": 32,
     "metadata": {},
     "output_type": "execute_result"
    }
   ],
   "source": [
    "correction_factor"
   ]
  },
  {
   "cell_type": "code",
   "execution_count": 33,
   "id": "8c002487-be97-4243-9892-0ca9a7ab5daa",
   "metadata": {},
   "outputs": [],
   "source": [
    "ribosome_number = (bright_coloc['intensity']/single_int)/correction_factor"
   ]
  },
  {
   "cell_type": "code",
   "execution_count": 34,
   "id": "d7420d0c-c91f-49ce-93ac-12a592034db5",
   "metadata": {},
   "outputs": [],
   "source": [
    "ribosome_number = pd.DataFrame(ribosome_number).rename(columns = {'intensity':'ribo_num'})"
   ]
  },
  {
   "cell_type": "code",
   "execution_count": 35,
   "id": "67476dc6-4cb5-4552-a81b-6491da68baa7",
   "metadata": {},
   "outputs": [],
   "source": [
    "ribosome_number.to_csv(folder + '/ribo_num.csv')"
   ]
  },
  {
   "cell_type": "code",
   "execution_count": 36,
   "id": "4a8f6929-2bcb-479c-92af-9f9290b63dd0",
   "metadata": {},
   "outputs": [
    {
     "data": {
      "image/png": "[encoded data removed]",
      "text/plain": [
       "<Figure size 432x288 with 1 Axes>"
      ]
     },
     "metadata": {
      "needs_background": "light"
     },
     "output_type": "display_data"
    }
   ],
   "source": [
    "plt.hist(ribosome_number)\n",
    "plt.show()"
   ]
  }
 ],
 "metadata": {
  "kernelspec": {
   "display_name": "Python 3 (ipykernel)",
   "language": "python",
   "name": "python3"
  },
  "language_info": {
   "codemirror_mode": {
    "name": "ipython",
    "version": 3
   },
   "file_extension": ".py",
   "mimetype": "text/x-python",
   "name": "python",
   "nbconvert_exporter": "python",
   "pygments_lexer": "ipython3",
   "version": "3.8.11"
  }
 },
 "nbformat": 4,
 "nbformat_minor": 5
}
